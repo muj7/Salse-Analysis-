{
 "cells": [
  {
   "cell_type": "markdown",
   "id": "66e67075",
   "metadata": {
    "tags": []
   },
   "source": [
    "#### Importing Libraries\n",
    "\n"
   ]
  },
  {
   "cell_type": "code",
   "execution_count": 2,
   "id": "db716713",
   "metadata": {},
   "outputs": [],
   "source": [
    "#Select the cell and click on run icon \n",
    "import pandas as pd\n",
    "import numpy as np\n",
    "import warnings\n",
    "import matplotlib.pyplot as plt\n",
    "import seaborn as sns\n",
    "warnings.filterwarnings('ignore')\n"
   ]
  },
  {
   "cell_type": "markdown",
   "id": "04919363",
   "metadata": {
    "tags": []
   },
   "source": [
    "#### Load Dataset\n",
    "\n"
   ]
  },
  {
   "cell_type": "code",
   "execution_count": 4,
   "id": "db96a6b6",
   "metadata": {},
   "outputs": [
    {
     "data": {
      "text/html": [
       "<div>\n",
       "<style scoped>\n",
       "    .dataframe tbody tr th:only-of-type {\n",
       "        vertical-align: middle;\n",
       "    }\n",
       "\n",
       "    .dataframe tbody tr th {\n",
       "        vertical-align: top;\n",
       "    }\n",
       "\n",
       "    .dataframe thead th {\n",
       "        text-align: right;\n",
       "    }\n",
       "</style>\n",
       "<table border=\"1\" class=\"dataframe\">\n",
       "  <thead>\n",
       "    <tr style=\"text-align: right;\">\n",
       "      <th></th>\n",
       "      <th>Date</th>\n",
       "      <th>Time</th>\n",
       "      <th>State</th>\n",
       "      <th>Group</th>\n",
       "      <th>Unit</th>\n",
       "      <th>Sales</th>\n",
       "    </tr>\n",
       "  </thead>\n",
       "  <tbody>\n",
       "    <tr>\n",
       "      <th>0</th>\n",
       "      <td>1-Oct-20</td>\n",
       "      <td>Morning</td>\n",
       "      <td>WA</td>\n",
       "      <td>Kids</td>\n",
       "      <td>8</td>\n",
       "      <td>20000</td>\n",
       "    </tr>\n",
       "    <tr>\n",
       "      <th>1</th>\n",
       "      <td>1-Oct-20</td>\n",
       "      <td>Morning</td>\n",
       "      <td>WA</td>\n",
       "      <td>Men</td>\n",
       "      <td>8</td>\n",
       "      <td>20000</td>\n",
       "    </tr>\n",
       "    <tr>\n",
       "      <th>2</th>\n",
       "      <td>1-Oct-20</td>\n",
       "      <td>Morning</td>\n",
       "      <td>WA</td>\n",
       "      <td>Women</td>\n",
       "      <td>4</td>\n",
       "      <td>10000</td>\n",
       "    </tr>\n",
       "    <tr>\n",
       "      <th>3</th>\n",
       "      <td>1-Oct-20</td>\n",
       "      <td>Morning</td>\n",
       "      <td>WA</td>\n",
       "      <td>Seniors</td>\n",
       "      <td>15</td>\n",
       "      <td>37500</td>\n",
       "    </tr>\n",
       "    <tr>\n",
       "      <th>4</th>\n",
       "      <td>1-Oct-20</td>\n",
       "      <td>Afternoon</td>\n",
       "      <td>WA</td>\n",
       "      <td>Kids</td>\n",
       "      <td>3</td>\n",
       "      <td>7500</td>\n",
       "    </tr>\n",
       "  </tbody>\n",
       "</table>\n",
       "</div>"
      ],
      "text/plain": [
       "       Date        Time State     Group  Unit  Sales\n",
       "0  1-Oct-20     Morning    WA      Kids     8  20000\n",
       "1  1-Oct-20     Morning    WA       Men     8  20000\n",
       "2  1-Oct-20     Morning    WA     Women     4  10000\n",
       "3  1-Oct-20     Morning    WA   Seniors    15  37500\n",
       "4  1-Oct-20   Afternoon    WA      Kids     3   7500"
      ]
     },
     "execution_count": 4,
     "metadata": {},
     "output_type": "execute_result"
    }
   ],
   "source": [
    "data = pd.read_csv('SalesPredictionDATA.csv')\n",
    "data.head()"
   ]
  },
  {
   "cell_type": "code",
   "execution_count": 5,
   "id": "de35e2bb-1f00-4a05-8296-00860b5bf539",
   "metadata": {
    "tags": []
   },
   "outputs": [
    {
     "name": "stdout",
     "output_type": "stream",
     "text": [
      "<class 'pandas.core.frame.DataFrame'>\n",
      "RangeIndex: 7560 entries, 0 to 7559\n",
      "Data columns (total 6 columns):\n",
      " #   Column  Non-Null Count  Dtype \n",
      "---  ------  --------------  ----- \n",
      " 0   Date    7560 non-null   object\n",
      " 1   Time    7560 non-null   object\n",
      " 2   State   7560 non-null   object\n",
      " 3   Group   7560 non-null   object\n",
      " 4   Unit    7560 non-null   int64 \n",
      " 5   Sales   7560 non-null   int64 \n",
      "dtypes: int64(2), object(4)\n",
      "memory usage: 354.5+ KB\n"
     ]
    }
   ],
   "source": [
    "#Select the cell and click on run icon \n",
    "data.info()"
   ]
  },
  {
   "cell_type": "markdown",
   "id": "e493c90f",
   "metadata": {
    "tags": []
   },
   "source": [
    "#### Data Analysis\n",
    "Perform descriptive statistical analysis on the data \n",
    "\n"
   ]
  },
  {
   "cell_type": "code",
   "execution_count": 6,
   "id": "6290c07e",
   "metadata": {},
   "outputs": [
    {
     "data": {
      "text/html": [
       "<div>\n",
       "<style scoped>\n",
       "    .dataframe tbody tr th:only-of-type {\n",
       "        vertical-align: middle;\n",
       "    }\n",
       "\n",
       "    .dataframe tbody tr th {\n",
       "        vertical-align: top;\n",
       "    }\n",
       "\n",
       "    .dataframe thead th {\n",
       "        text-align: right;\n",
       "    }\n",
       "</style>\n",
       "<table border=\"1\" class=\"dataframe\">\n",
       "  <thead>\n",
       "    <tr style=\"text-align: right;\">\n",
       "      <th></th>\n",
       "      <th>Unit</th>\n",
       "      <th>Sales</th>\n",
       "    </tr>\n",
       "  </thead>\n",
       "  <tbody>\n",
       "    <tr>\n",
       "      <th>count</th>\n",
       "      <td>7560.000000</td>\n",
       "      <td>7560.000000</td>\n",
       "    </tr>\n",
       "    <tr>\n",
       "      <th>mean</th>\n",
       "      <td>18.005423</td>\n",
       "      <td>45013.558201</td>\n",
       "    </tr>\n",
       "    <tr>\n",
       "      <th>std</th>\n",
       "      <td>12.901403</td>\n",
       "      <td>32253.506944</td>\n",
       "    </tr>\n",
       "    <tr>\n",
       "      <th>min</th>\n",
       "      <td>2.000000</td>\n",
       "      <td>5000.000000</td>\n",
       "    </tr>\n",
       "    <tr>\n",
       "      <th>25%</th>\n",
       "      <td>8.000000</td>\n",
       "      <td>20000.000000</td>\n",
       "    </tr>\n",
       "    <tr>\n",
       "      <th>50%</th>\n",
       "      <td>14.000000</td>\n",
       "      <td>35000.000000</td>\n",
       "    </tr>\n",
       "    <tr>\n",
       "      <th>75%</th>\n",
       "      <td>26.000000</td>\n",
       "      <td>65000.000000</td>\n",
       "    </tr>\n",
       "    <tr>\n",
       "      <th>max</th>\n",
       "      <td>65.000000</td>\n",
       "      <td>162500.000000</td>\n",
       "    </tr>\n",
       "  </tbody>\n",
       "</table>\n",
       "</div>"
      ],
      "text/plain": [
       "              Unit          Sales\n",
       "count  7560.000000    7560.000000\n",
       "mean     18.005423   45013.558201\n",
       "std      12.901403   32253.506944\n",
       "min       2.000000    5000.000000\n",
       "25%       8.000000   20000.000000\n",
       "50%      14.000000   35000.000000\n",
       "75%      26.000000   65000.000000\n",
       "max      65.000000  162500.000000"
      ]
     },
     "execution_count": 6,
     "metadata": {},
     "output_type": "execute_result"
    }
   ],
   "source": [
    "#Select the cell and click on run icon \n",
    "data.describe()"
   ]
  },
  {
   "cell_type": "code",
   "execution_count": 7,
   "id": "b5e0fba8-b6a2-44a7-80cf-bdd083417bc4",
   "metadata": {
    "tags": []
   },
   "outputs": [
    {
     "data": {
      "text/plain": [
       "(7560, 6)"
      ]
     },
     "execution_count": 7,
     "metadata": {},
     "output_type": "execute_result"
    }
   ],
   "source": [
    "#now we found out the shape of the dataset\n",
    "data.shape"
   ]
  },
  {
   "cell_type": "markdown",
   "id": "966a0967",
   "metadata": {
    "tags": []
   },
   "source": [
    "#### Inspect the data manually  functions isna(), and notna().\n",
    "\n"
   ]
  },
  {
   "cell_type": "code",
   "execution_count": 8,
   "id": "79bf9d97",
   "metadata": {},
   "outputs": [
    {
     "data": {
      "text/plain": [
       "Date     0\n",
       "Time     0\n",
       "State    0\n",
       "Group    0\n",
       "Unit     0\n",
       "Sales    0\n",
       "dtype: int64"
      ]
     },
     "execution_count": 8,
     "metadata": {},
     "output_type": "execute_result"
    }
   ],
   "source": [
    "#with this we will find out that is there any null value in the dataset\n",
    "data.isnull().sum()"
   ]
  },
  {
   "cell_type": "code",
   "execution_count": 9,
   "id": "2f13c575-e42a-4b88-aedc-078b03df28de",
   "metadata": {
    "tags": []
   },
   "outputs": [
    {
     "data": {
      "text/html": [
       "<div>\n",
       "<style scoped>\n",
       "    .dataframe tbody tr th:only-of-type {\n",
       "        vertical-align: middle;\n",
       "    }\n",
       "\n",
       "    .dataframe tbody tr th {\n",
       "        vertical-align: top;\n",
       "    }\n",
       "\n",
       "    .dataframe thead th {\n",
       "        text-align: right;\n",
       "    }\n",
       "</style>\n",
       "<table border=\"1\" class=\"dataframe\">\n",
       "  <thead>\n",
       "    <tr style=\"text-align: right;\">\n",
       "      <th></th>\n",
       "      <th>Date</th>\n",
       "      <th>Time</th>\n",
       "      <th>State</th>\n",
       "      <th>Group</th>\n",
       "      <th>Unit</th>\n",
       "      <th>Sales</th>\n",
       "    </tr>\n",
       "  </thead>\n",
       "  <tbody>\n",
       "    <tr>\n",
       "      <th>0</th>\n",
       "      <td>False</td>\n",
       "      <td>False</td>\n",
       "      <td>False</td>\n",
       "      <td>False</td>\n",
       "      <td>False</td>\n",
       "      <td>False</td>\n",
       "    </tr>\n",
       "    <tr>\n",
       "      <th>1</th>\n",
       "      <td>False</td>\n",
       "      <td>False</td>\n",
       "      <td>False</td>\n",
       "      <td>False</td>\n",
       "      <td>False</td>\n",
       "      <td>False</td>\n",
       "    </tr>\n",
       "    <tr>\n",
       "      <th>2</th>\n",
       "      <td>False</td>\n",
       "      <td>False</td>\n",
       "      <td>False</td>\n",
       "      <td>False</td>\n",
       "      <td>False</td>\n",
       "      <td>False</td>\n",
       "    </tr>\n",
       "    <tr>\n",
       "      <th>3</th>\n",
       "      <td>False</td>\n",
       "      <td>False</td>\n",
       "      <td>False</td>\n",
       "      <td>False</td>\n",
       "      <td>False</td>\n",
       "      <td>False</td>\n",
       "    </tr>\n",
       "    <tr>\n",
       "      <th>4</th>\n",
       "      <td>False</td>\n",
       "      <td>False</td>\n",
       "      <td>False</td>\n",
       "      <td>False</td>\n",
       "      <td>False</td>\n",
       "      <td>False</td>\n",
       "    </tr>\n",
       "    <tr>\n",
       "      <th>...</th>\n",
       "      <td>...</td>\n",
       "      <td>...</td>\n",
       "      <td>...</td>\n",
       "      <td>...</td>\n",
       "      <td>...</td>\n",
       "      <td>...</td>\n",
       "    </tr>\n",
       "    <tr>\n",
       "      <th>7555</th>\n",
       "      <td>False</td>\n",
       "      <td>False</td>\n",
       "      <td>False</td>\n",
       "      <td>False</td>\n",
       "      <td>False</td>\n",
       "      <td>False</td>\n",
       "    </tr>\n",
       "    <tr>\n",
       "      <th>7556</th>\n",
       "      <td>False</td>\n",
       "      <td>False</td>\n",
       "      <td>False</td>\n",
       "      <td>False</td>\n",
       "      <td>False</td>\n",
       "      <td>False</td>\n",
       "    </tr>\n",
       "    <tr>\n",
       "      <th>7557</th>\n",
       "      <td>False</td>\n",
       "      <td>False</td>\n",
       "      <td>False</td>\n",
       "      <td>False</td>\n",
       "      <td>False</td>\n",
       "      <td>False</td>\n",
       "    </tr>\n",
       "    <tr>\n",
       "      <th>7558</th>\n",
       "      <td>False</td>\n",
       "      <td>False</td>\n",
       "      <td>False</td>\n",
       "      <td>False</td>\n",
       "      <td>False</td>\n",
       "      <td>False</td>\n",
       "    </tr>\n",
       "    <tr>\n",
       "      <th>7559</th>\n",
       "      <td>False</td>\n",
       "      <td>False</td>\n",
       "      <td>False</td>\n",
       "      <td>False</td>\n",
       "      <td>False</td>\n",
       "      <td>False</td>\n",
       "    </tr>\n",
       "  </tbody>\n",
       "</table>\n",
       "<p>7560 rows × 6 columns</p>\n",
       "</div>"
      ],
      "text/plain": [
       "       Date   Time  State  Group   Unit  Sales\n",
       "0     False  False  False  False  False  False\n",
       "1     False  False  False  False  False  False\n",
       "2     False  False  False  False  False  False\n",
       "3     False  False  False  False  False  False\n",
       "4     False  False  False  False  False  False\n",
       "...     ...    ...    ...    ...    ...    ...\n",
       "7555  False  False  False  False  False  False\n",
       "7556  False  False  False  False  False  False\n",
       "7557  False  False  False  False  False  False\n",
       "7558  False  False  False  False  False  False\n",
       "7559  False  False  False  False  False  False\n",
       "\n",
       "[7560 rows x 6 columns]"
      ]
     },
     "execution_count": 9,
     "metadata": {},
     "output_type": "execute_result"
    }
   ],
   "source": [
    "#now we find the incorrect data\n",
    "data.isna()"
   ]
  },
  {
   "cell_type": "code",
   "execution_count": 10,
   "id": "3cf2e0ee-9de6-460f-8cd1-0ae824a9b53c",
   "metadata": {
    "tags": []
   },
   "outputs": [
    {
     "data": {
      "text/html": [
       "<div>\n",
       "<style scoped>\n",
       "    .dataframe tbody tr th:only-of-type {\n",
       "        vertical-align: middle;\n",
       "    }\n",
       "\n",
       "    .dataframe tbody tr th {\n",
       "        vertical-align: top;\n",
       "    }\n",
       "\n",
       "    .dataframe thead th {\n",
       "        text-align: right;\n",
       "    }\n",
       "</style>\n",
       "<table border=\"1\" class=\"dataframe\">\n",
       "  <thead>\n",
       "    <tr style=\"text-align: right;\">\n",
       "      <th></th>\n",
       "      <th>Date</th>\n",
       "      <th>Time</th>\n",
       "      <th>State</th>\n",
       "      <th>Group</th>\n",
       "      <th>Unit</th>\n",
       "      <th>Sales</th>\n",
       "    </tr>\n",
       "  </thead>\n",
       "  <tbody>\n",
       "    <tr>\n",
       "      <th>7555</th>\n",
       "      <td>30-Dec-20</td>\n",
       "      <td>Afternoon</td>\n",
       "      <td>TAS</td>\n",
       "      <td>Seniors</td>\n",
       "      <td>14</td>\n",
       "      <td>35000</td>\n",
       "    </tr>\n",
       "    <tr>\n",
       "      <th>7556</th>\n",
       "      <td>30-Dec-20</td>\n",
       "      <td>Evening</td>\n",
       "      <td>TAS</td>\n",
       "      <td>Kids</td>\n",
       "      <td>15</td>\n",
       "      <td>37500</td>\n",
       "    </tr>\n",
       "    <tr>\n",
       "      <th>7557</th>\n",
       "      <td>30-Dec-20</td>\n",
       "      <td>Evening</td>\n",
       "      <td>TAS</td>\n",
       "      <td>Men</td>\n",
       "      <td>15</td>\n",
       "      <td>37500</td>\n",
       "    </tr>\n",
       "    <tr>\n",
       "      <th>7558</th>\n",
       "      <td>30-Dec-20</td>\n",
       "      <td>Evening</td>\n",
       "      <td>TAS</td>\n",
       "      <td>Women</td>\n",
       "      <td>11</td>\n",
       "      <td>27500</td>\n",
       "    </tr>\n",
       "    <tr>\n",
       "      <th>7559</th>\n",
       "      <td>30-Dec-20</td>\n",
       "      <td>Evening</td>\n",
       "      <td>TAS</td>\n",
       "      <td>Seniors</td>\n",
       "      <td>13</td>\n",
       "      <td>32500</td>\n",
       "    </tr>\n",
       "  </tbody>\n",
       "</table>\n",
       "</div>"
      ],
      "text/plain": [
       "           Date        Time State     Group  Unit  Sales\n",
       "7555  30-Dec-20   Afternoon   TAS   Seniors    14  35000\n",
       "7556  30-Dec-20     Evening   TAS      Kids    15  37500\n",
       "7557  30-Dec-20     Evening   TAS       Men    15  37500\n",
       "7558  30-Dec-20     Evening   TAS     Women    11  27500\n",
       "7559  30-Dec-20     Evening   TAS   Seniors    13  32500"
      ]
     },
     "execution_count": 10,
     "metadata": {},
     "output_type": "execute_result"
    }
   ],
   "source": [
    "data.tail()"
   ]
  },
  {
   "cell_type": "code",
   "execution_count": 11,
   "id": "ee029f70-280f-4fe1-86ce-5b11dba9d82f",
   "metadata": {
    "tags": []
   },
   "outputs": [
    {
     "data": {
      "text/plain": [
       "Index(['Date', 'Time', 'State', 'Group', 'Unit', 'Sales'], dtype='object')"
      ]
     },
     "execution_count": 11,
     "metadata": {},
     "output_type": "execute_result"
    }
   ],
   "source": [
    "\n",
    "#Select the cell and click on run icon \n",
    "data.columns\n"
   ]
  },
  {
   "cell_type": "markdown",
   "id": "51710648",
   "metadata": {},
   "source": [
    "#### ------        Data Analysis        -------\n",
    "\n"
   ]
  },
  {
   "cell_type": "markdown",
   "id": "f8b53e8e",
   "metadata": {
    "tags": []
   },
   "source": [
    "##### Determine which group is generating the highest sales, and which group is generating the lowest sales.\n",
    "\n"
   ]
  },
  {
   "cell_type": "code",
   "execution_count": 12,
   "id": "517bc7cd",
   "metadata": {},
   "outputs": [
    {
     "data": {
      "text/html": [
       "<div>\n",
       "<style scoped>\n",
       "    .dataframe tbody tr th:only-of-type {\n",
       "        vertical-align: middle;\n",
       "    }\n",
       "\n",
       "    .dataframe tbody tr th {\n",
       "        vertical-align: top;\n",
       "    }\n",
       "\n",
       "    .dataframe thead th {\n",
       "        text-align: right;\n",
       "    }\n",
       "</style>\n",
       "<table border=\"1\" class=\"dataframe\">\n",
       "  <thead>\n",
       "    <tr style=\"text-align: right;\">\n",
       "      <th></th>\n",
       "      <th>Date</th>\n",
       "      <th>Time</th>\n",
       "      <th>State</th>\n",
       "      <th>Unit</th>\n",
       "      <th>Sales</th>\n",
       "    </tr>\n",
       "    <tr>\n",
       "      <th>Group</th>\n",
       "      <th></th>\n",
       "      <th></th>\n",
       "      <th></th>\n",
       "      <th></th>\n",
       "      <th></th>\n",
       "    </tr>\n",
       "  </thead>\n",
       "  <tbody>\n",
       "    <tr>\n",
       "      <th>Kids</th>\n",
       "      <td>1-Oct-20</td>\n",
       "      <td>Morning</td>\n",
       "      <td>WA</td>\n",
       "      <td>8</td>\n",
       "      <td>20000</td>\n",
       "    </tr>\n",
       "    <tr>\n",
       "      <th>Men</th>\n",
       "      <td>1-Oct-20</td>\n",
       "      <td>Morning</td>\n",
       "      <td>WA</td>\n",
       "      <td>8</td>\n",
       "      <td>20000</td>\n",
       "    </tr>\n",
       "    <tr>\n",
       "      <th>Seniors</th>\n",
       "      <td>1-Oct-20</td>\n",
       "      <td>Morning</td>\n",
       "      <td>WA</td>\n",
       "      <td>15</td>\n",
       "      <td>37500</td>\n",
       "    </tr>\n",
       "    <tr>\n",
       "      <th>Women</th>\n",
       "      <td>1-Oct-20</td>\n",
       "      <td>Morning</td>\n",
       "      <td>WA</td>\n",
       "      <td>4</td>\n",
       "      <td>10000</td>\n",
       "    </tr>\n",
       "  </tbody>\n",
       "</table>\n",
       "</div>"
      ],
      "text/plain": [
       "              Date      Time State  Unit  Sales\n",
       "Group                                          \n",
       " Kids     1-Oct-20   Morning    WA     8  20000\n",
       " Men      1-Oct-20   Morning    WA     8  20000\n",
       " Seniors  1-Oct-20   Morning    WA    15  37500\n",
       " Women    1-Oct-20   Morning    WA     4  10000"
      ]
     },
     "execution_count": 12,
     "metadata": {},
     "output_type": "execute_result"
    }
   ],
   "source": [
    "gb_group= data.groupby('Group')\n",
    "gb_group.first()"
   ]
  },
  {
   "cell_type": "code",
   "execution_count": 13,
   "id": "51cec48c-7b9c-4da8-8c0d-52d711ecaba5",
   "metadata": {
    "tags": []
   },
   "outputs": [
    {
     "data": {
      "text/plain": [
       "Group\n",
       " Men        85750000\n",
       " Women      85442500\n",
       " Kids       85072500\n",
       " Seniors    84037500\n",
       "Name: Sales, dtype: int64"
      ]
     },
     "execution_count": 13,
     "metadata": {},
     "output_type": "execute_result"
    }
   ],
   "source": [
    "sorted_gb_group = gb_group['Sales'].sum().sort_values(ascending=False)\n",
    "sorted_gb_group"
   ]
  },
  {
   "cell_type": "markdown",
   "id": "0ad4b762",
   "metadata": {
    "tags": []
   },
   "source": [
    "##### Determine which state is generating the highest sales, and which group is generating the lowest sales.\n"
   ]
  },
  {
   "cell_type": "code",
   "execution_count": 14,
   "id": "81b2254a",
   "metadata": {},
   "outputs": [
    {
     "data": {
      "text/html": [
       "<div>\n",
       "<style scoped>\n",
       "    .dataframe tbody tr th:only-of-type {\n",
       "        vertical-align: middle;\n",
       "    }\n",
       "\n",
       "    .dataframe tbody tr th {\n",
       "        vertical-align: top;\n",
       "    }\n",
       "\n",
       "    .dataframe thead th {\n",
       "        text-align: right;\n",
       "    }\n",
       "</style>\n",
       "<table border=\"1\" class=\"dataframe\">\n",
       "  <thead>\n",
       "    <tr style=\"text-align: right;\">\n",
       "      <th></th>\n",
       "      <th>Date</th>\n",
       "      <th>Time</th>\n",
       "      <th>Group</th>\n",
       "      <th>Unit</th>\n",
       "      <th>Sales</th>\n",
       "    </tr>\n",
       "    <tr>\n",
       "      <th>State</th>\n",
       "      <th></th>\n",
       "      <th></th>\n",
       "      <th></th>\n",
       "      <th></th>\n",
       "      <th></th>\n",
       "    </tr>\n",
       "  </thead>\n",
       "  <tbody>\n",
       "    <tr>\n",
       "      <th>NSW</th>\n",
       "      <td>1-Oct-20</td>\n",
       "      <td>Morning</td>\n",
       "      <td>Kids</td>\n",
       "      <td>39</td>\n",
       "      <td>97500</td>\n",
       "    </tr>\n",
       "    <tr>\n",
       "      <th>NT</th>\n",
       "      <td>1-Oct-20</td>\n",
       "      <td>Morning</td>\n",
       "      <td>Kids</td>\n",
       "      <td>13</td>\n",
       "      <td>32500</td>\n",
       "    </tr>\n",
       "    <tr>\n",
       "      <th>QLD</th>\n",
       "      <td>1-Oct-20</td>\n",
       "      <td>Morning</td>\n",
       "      <td>Kids</td>\n",
       "      <td>20</td>\n",
       "      <td>50000</td>\n",
       "    </tr>\n",
       "    <tr>\n",
       "      <th>SA</th>\n",
       "      <td>1-Oct-20</td>\n",
       "      <td>Morning</td>\n",
       "      <td>Kids</td>\n",
       "      <td>12</td>\n",
       "      <td>30000</td>\n",
       "    </tr>\n",
       "    <tr>\n",
       "      <th>TAS</th>\n",
       "      <td>1-Oct-20</td>\n",
       "      <td>Morning</td>\n",
       "      <td>Kids</td>\n",
       "      <td>13</td>\n",
       "      <td>32500</td>\n",
       "    </tr>\n",
       "    <tr>\n",
       "      <th>VIC</th>\n",
       "      <td>1-Oct-20</td>\n",
       "      <td>Morning</td>\n",
       "      <td>Kids</td>\n",
       "      <td>49</td>\n",
       "      <td>122500</td>\n",
       "    </tr>\n",
       "    <tr>\n",
       "      <th>WA</th>\n",
       "      <td>1-Oct-20</td>\n",
       "      <td>Morning</td>\n",
       "      <td>Kids</td>\n",
       "      <td>8</td>\n",
       "      <td>20000</td>\n",
       "    </tr>\n",
       "  </tbody>\n",
       "</table>\n",
       "</div>"
      ],
      "text/plain": [
       "           Date      Time  Group  Unit   Sales\n",
       "State                                         \n",
       " NSW   1-Oct-20   Morning   Kids    39   97500\n",
       " NT    1-Oct-20   Morning   Kids    13   32500\n",
       " QLD   1-Oct-20   Morning   Kids    20   50000\n",
       " SA    1-Oct-20   Morning   Kids    12   30000\n",
       " TAS   1-Oct-20   Morning   Kids    13   32500\n",
       " VIC   1-Oct-20   Morning   Kids    49  122500\n",
       " WA    1-Oct-20   Morning   Kids     8   20000"
      ]
     },
     "execution_count": 14,
     "metadata": {},
     "output_type": "execute_result"
    }
   ],
   "source": [
    "gb_state=data.groupby('State')\n",
    "gb_state.first()"
   ]
  },
  {
   "cell_type": "code",
   "execution_count": 15,
   "id": "8cb03bbd-c354-40ed-bb9e-21d0e08cde2f",
   "metadata": {
    "tags": []
   },
   "outputs": [
    {
     "data": {
      "text/plain": [
       "State\n",
       " VIC    105565000\n",
       " NSW     74970000\n",
       " SA      58857500\n",
       " QLD     33417500\n",
       " TAS     22760000\n",
       " NT      22580000\n",
       " WA      22152500\n",
       "Name: Sales, dtype: int64"
      ]
     },
     "execution_count": 15,
     "metadata": {},
     "output_type": "execute_result"
    }
   ],
   "source": [
    "sorted_gb_state = gb_state['Sales'].sum().sort_values(ascending=False)\n",
    "sorted_gb_state"
   ]
  },
  {
   "cell_type": "markdown",
   "id": "ff922a26-717c-4fcd-9299-588f151eb3e0",
   "metadata": {},
   "source": [
    "#### ------------     weekly, monthly and quarterly reports     ------------"
   ]
  },
  {
   "cell_type": "code",
   "execution_count": 16,
   "id": "59aadf8a-7b37-46b8-be4c-f2fe9c4ec6d5",
   "metadata": {
    "tags": []
   },
   "outputs": [],
   "source": [
    "#Generate weekly, monthly and quarterly reports for the analysis made.\n",
    "data['Date'] = pd.to_datetime(data['Date'])"
   ]
  },
  {
   "cell_type": "code",
   "execution_count": 17,
   "id": "ee55a9c5-ca05-4880-ba8a-4adf8feb2d6f",
   "metadata": {
    "tags": []
   },
   "outputs": [],
   "source": [
    "data.set_index('Date', inplace=True)"
   ]
  },
  {
   "cell_type": "code",
   "execution_count": 18,
   "id": "d8ec814c-0910-4bfe-8795-bc612ba53305",
   "metadata": {
    "tags": []
   },
   "outputs": [
    {
     "name": "stdout",
     "output_type": "stream",
     "text": [
      "                                                         Time   \n",
      "Date                                                            \n",
      "2020-10-04   Morning Morning Morning Morning Afternoon Aft...  \\\n",
      "2020-10-11   Morning Morning Morning Morning Afternoon Aft...   \n",
      "2020-10-18   Morning Morning Morning Morning Afternoon Aft...   \n",
      "2020-10-25   Morning Morning Morning Morning Afternoon Aft...   \n",
      "2020-11-01   Morning Morning Morning Morning Afternoon Aft...   \n",
      "2020-11-08   Morning Morning Morning Morning Afternoon Aft...   \n",
      "2020-11-15   Morning Morning Morning Morning Afternoon Aft...   \n",
      "2020-11-22   Morning Morning Morning Morning Afternoon Aft...   \n",
      "2020-11-29   Morning Morning Morning Morning Afternoon Aft...   \n",
      "2020-12-06   Morning Morning Morning Morning Afternoon Aft...   \n",
      "2020-12-13   Morning Morning Morning Morning Afternoon Aft...   \n",
      "2020-12-20   Morning Morning Morning Morning Afternoon Aft...   \n",
      "2020-12-27   Morning Morning Morning Morning Afternoon Aft...   \n",
      "2021-01-03   Morning Morning Morning Morning Afternoon Aft...   \n",
      "\n",
      "                                                        State   \n",
      "Date                                                            \n",
      "2020-10-04   WA WA WA WA WA WA WA WA WA WA WA WA NT NT NT ...  \\\n",
      "2020-10-11   WA WA WA WA WA WA WA WA WA WA WA WA NT NT NT ...   \n",
      "2020-10-18   WA WA WA WA WA WA WA WA WA WA WA WA NT NT NT ...   \n",
      "2020-10-25   WA WA WA WA WA WA WA WA WA WA WA WA NT NT NT ...   \n",
      "2020-11-01   WA WA WA WA WA WA WA WA WA WA WA WA NT NT NT ...   \n",
      "2020-11-08   WA WA WA WA WA WA WA WA WA WA WA WA NT NT NT ...   \n",
      "2020-11-15   WA WA WA WA WA WA WA WA WA WA WA WA NT NT NT ...   \n",
      "2020-11-22   WA WA WA WA WA WA WA WA WA WA WA WA NT NT NT ...   \n",
      "2020-11-29   WA WA WA WA WA WA WA WA WA WA WA WA NT NT NT ...   \n",
      "2020-12-06   WA WA WA WA WA WA WA WA WA WA WA WA NT NT NT ...   \n",
      "2020-12-13   WA WA WA WA WA WA WA WA WA WA WA WA NT NT NT ...   \n",
      "2020-12-20   WA WA WA WA WA WA WA WA WA WA WA WA NT NT NT ...   \n",
      "2020-12-27   WA WA WA WA WA WA WA WA WA WA WA WA NT NT NT ...   \n",
      "2021-01-03   WA WA WA WA WA WA WA WA WA WA WA WA NT NT NT ...   \n",
      "\n",
      "                                                        Group   Unit     Sales  \n",
      "Date                                                                            \n",
      "2020-10-04   Kids Men Women Seniors Kids Men Women Seniors...   6018  15045000  \n",
      "2020-10-11   Kids Men Women Seniors Kids Men Women Seniors...  10801  27002500  \n",
      "2020-10-18   Kids Men Women Seniors Kids Men Women Seniors...  10656  26640000  \n",
      "2020-10-25   Kids Men Women Seniors Kids Men Women Seniors...  10726  26815000  \n",
      "2020-11-01   Kids Men Women Seniors Kids Men Women Seniors...   8723  21807500  \n",
      "2020-11-08   Kids Men Women Seniors Kids Men Women Seniors...   8346  20865000  \n",
      "2020-11-15   Kids Men Women Seniors Kids Men Women Seniors...   8469  21172500  \n",
      "2020-11-22   Kids Men Women Seniors Kids Men Women Seniors...   8445  21112500  \n",
      "2020-11-29   Kids Men Women Seniors Kids Men Women Seniors...   8591  21477500  \n",
      "2020-12-06   Kids Men Women Seniors Kids Men Women Seniors...  11849  29622500  \n",
      "2020-12-13   Kids Men Women Seniors Kids Men Women Seniors...  12610  31525000  \n",
      "2020-12-20   Kids Men Women Seniors Kids Men Women Seniors...  12662  31655000  \n",
      "2020-12-27   Kids Men Women Seniors Kids Men Women Seniors...  12708  31770000  \n",
      "2021-01-03   Kids Men Women Seniors Kids Men Women Seniors...   5517  13792500  \n"
     ]
    }
   ],
   "source": [
    "weekly_report = data.resample('W').sum()\n",
    "print(weekly_report)"
   ]
  },
  {
   "cell_type": "code",
   "execution_count": 19,
   "id": "7722d658-953e-4c1b-a0c2-f8070721830a",
   "metadata": {
    "tags": []
   },
   "outputs": [
    {
     "name": "stdout",
     "output_type": "stream",
     "text": [
      "                                                         Time   \n",
      "Date                                                            \n",
      "2020-10-31   Morning Morning Morning Morning Afternoon Aft...  \\\n",
      "2020-11-30   Morning Morning Morning Morning Afternoon Aft...   \n",
      "2020-12-31   Morning Morning Morning Morning Afternoon Aft...   \n",
      "\n",
      "                                                        State   \n",
      "Date                                                            \n",
      "2020-10-31   WA WA WA WA WA WA WA WA WA WA WA WA NT NT NT ...  \\\n",
      "2020-11-30   WA WA WA WA WA WA WA WA WA WA WA WA NT NT NT ...   \n",
      "2020-12-31   WA WA WA WA WA WA WA WA WA WA WA WA NT NT NT ...   \n",
      "\n",
      "                                                        Group   Unit   \n",
      "Date                                                                   \n",
      "2020-10-31   Kids Men Women Seniors Kids Men Women Seniors...  45716  \\\n",
      "2020-11-30   Kids Men Women Seniors Kids Men Women Seniors...  36273   \n",
      "2020-12-31   Kids Men Women Seniors Kids Men Women Seniors...  54132   \n",
      "\n",
      "                Sales  \n",
      "Date                   \n",
      "2020-10-31  114290000  \n",
      "2020-11-30   90682500  \n",
      "2020-12-31  135330000  \n"
     ]
    }
   ],
   "source": [
    "monthly_report = data.resample('M').sum()\n",
    "print(monthly_report)"
   ]
  },
  {
   "cell_type": "code",
   "execution_count": 20,
   "id": "2d099f14-a6e2-4fe2-b248-3f232b0533a6",
   "metadata": {
    "tags": []
   },
   "outputs": [
    {
     "name": "stdout",
     "output_type": "stream",
     "text": [
      "                                                         Time   \n",
      "Date                                                            \n",
      "2020-12-31   Morning Morning Morning Morning Afternoon Aft...  \\\n",
      "\n",
      "                                                        State   \n",
      "Date                                                            \n",
      "2020-12-31   WA WA WA WA WA WA WA WA WA WA WA WA NT NT NT ...  \\\n",
      "\n",
      "                                                        Group    Unit   \n",
      "Date                                                                    \n",
      "2020-12-31   Kids Men Women Seniors Kids Men Women Seniors...  136121  \\\n",
      "\n",
      "                Sales  \n",
      "Date                   \n",
      "2020-12-31  340302500  \n"
     ]
    }
   ],
   "source": [
    "quarterly_report = data.resample('Q').sum()\n",
    "print(quarterly_report)"
   ]
  },
  {
   "cell_type": "markdown",
   "id": "41b06005",
   "metadata": {},
   "source": [
    "#### Data Visualization\n",
    "\n"
   ]
  },
  {
   "cell_type": "code",
   "execution_count": 21,
   "id": "78c6f3c1",
   "metadata": {},
   "outputs": [
    {
     "data": {
      "text/plain": [
       "<Axes: xlabel='Sales'>"
      ]
     },
     "execution_count": 21,
     "metadata": {},
     "output_type": "execute_result"
    },
    {
     "data": {
      "image/png": "[encoded data removed]",
      "text/plain": [
       "<Figure size 640x480 with 1 Axes>"
      ]
     },
     "metadata": {},
     "output_type": "display_data"
    }
   ],
   "source": [
    "sns.boxplot(x = data['Sales'])"
   ]
  },
  {
   "cell_type": "code",
   "execution_count": 22,
   "id": "91214bdd-51fb-4c01-be7f-a68e5edd8f1c",
   "metadata": {
    "tags": []
   },
   "outputs": [
    {
     "data": {
      "image/png": "[encoded data removed]",
      "text/plain": [
       "<Figure size 1200x600 with 1 Axes>"
      ]
     },
     "metadata": {},
     "output_type": "display_data"
    }
   ],
   "source": [
    "monthly_report.plot(kind='bar', figsize=(12, 6))\n",
    "plt.title('Monthly Sales Report')\n",
    "plt.xlabel('Month')\n",
    "plt.ylabel('Sales')\n",
    "plt.show()"
   ]
  },
  {
   "cell_type": "code",
   "execution_count": 23,
   "id": "d19a0a9a-5a6c-413d-b082-dc5d9304cb3b",
   "metadata": {
    "tags": []
   },
   "outputs": [
    {
     "data": {
      "image/png": "[encoded data removed]",
      "text/plain": [
       "<Figure size 1000x600 with 1 Axes>"
      ]
     },
     "metadata": {},
     "output_type": "display_data"
    }
   ],
   "source": [
    "# State-wise sales analysis for different groups\n",
    "state_group_sales = data.pivot_table(index='State', columns='Group', values='Sales', aggfunc='sum')\n",
    "state_group_sales.plot(kind='bar', figsize=(10, 6))\n",
    "plt.title('State-wise Sales Analysis by Group')\n",
    "plt.xlabel('State')\n",
    "plt.ylabel('Sales')\n",
    "plt.show()"
   ]
  },
  {
   "cell_type": "code",
   "execution_count": 24,
   "id": "78d2067a-6b65-4f6a-bbc5-eec621f5ada1",
   "metadata": {
    "tags": []
   },
   "outputs": [
    {
     "data": {
      "image/png": "[encoded data removed]",
      "text/plain": [
       "<Figure size 1000x600 with 1 Axes>"
      ]
     },
     "metadata": {},
     "output_type": "display_data"
    }
   ],
   "source": [
    "# Group-wise sales analysis across different states\n",
    "group_state_sales = data.pivot_table(index='Group', columns='State', values='Sales', aggfunc='sum')\n",
    "group_state_sales.plot(kind='bar', figsize=(10, 6))\n",
    "plt.title('Group-wise Sales Analysis by State')\n",
    "plt.xlabel('Group')\n",
    "plt.ylabel('Sales')\n",
    "plt.show()"
   ]
  },
  {
   "cell_type": "code",
   "execution_count": 37,
   "id": "2d3a34bc",
   "metadata": {},
   "outputs": [
    {
     "data": {
      "text/plain": [
       "<function matplotlib.pyplot.show(close=None, block=None)>"
      ]
     },
     "execution_count": 37,
     "metadata": {},
     "output_type": "execute_result"
    },
    {
     "data": {
      "image/png": "[encoded data removed]",
      "text/plain": [
       "<Figure size 500x500 with 6 Axes>"
      ]
     },
     "metadata": {},
     "output_type": "display_data"
    }
   ],
   "source": [
    "sns.pairplot(data)\n",
    "plt.show"
   ]
  },
  {
   "cell_type": "code",
   "execution_count": null,
   "id": "dc727a0b",
   "metadata": {},
   "outputs": [],
   "source": []
  }
 ],
 "metadata": {
  "kernelspec": {
   "display_name": "Python 3 (ipykernel)",
   "language": "python",
   "name": "python3"
  },
  "language_info": {
   "codemirror_mode": {
    "name": "ipython",
    "version": 3
   },
   "file_extension": ".py",
   "mimetype": "text/x-python",
   "name": "python",
   "nbconvert_exporter": "python",
   "pygments_lexer": "ipython3",
   "version": "3.11.2"
  }
 },
 "nbformat": 4,
 "nbformat_minor": 5
}
